{
  "nbformat": 4,
  "nbformat_minor": 0,
  "metadata": {
    "colab": {
      "provenance": [],
      "include_colab_link": true
    },
    "kernelspec": {
      "name": "python3",
      "display_name": "Python 3"
    },
    "language_info": {
      "name": "python"
    }
  },
  "cells": [
    {
      "cell_type": "markdown",
      "metadata": {
        "id": "view-in-github",
        "colab_type": "text"
      },
      "source": [
        "<a href=\"https://colab.research.google.com/github/dzxzlyp/Data-Mining/blob/main/Projet.ipynb\" target=\"_parent\"><img src=\"https://colab.research.google.com/assets/colab-badge.svg\" alt=\"Open In Colab\"/></a>"
      ]
    },
    {
      "cell_type": "markdown",
      "source": [
        "# Data\n",
        "- movie_ratings_500_id.pkl contains the interactions between users and movies\n",
        "- movie_metadata.pkl contains detailed information about movies, e.g. genres, actors and directors of the movies.\n",
        "\n",
        "# Goal\n",
        "\n",
        "- Construct your own recommender systems\n",
        "- Compare the performances of at least one of the baselines\n",
        "\n"
      ],
      "metadata": {
        "id": "9uFHHoXVQdlr"
      }
    },
    {
      "cell_type": "markdown",
      "source": [
        "# Baselines\n",
        "\n",
        "## User-Based Collaborative Filtering\n",
        "This approach predicts $\\hat{r}_{(u,i)}$ by leveraging the ratings given to $i$ by $u$'s similar users. Formally, it is written as:\n",
        "\n",
        "\\begin{equation}\n",
        "\\hat{r}_{(u,i)} = \\frac{\\sum\\limits_{v \\in \\mathcal{N}_i(u)}sim_{(u,v)}r_{vi}}{\\sum\\limits_{v \\in \\mathbf{N}_i(u)}|sim_{(u,v)}|}\n",
        "\\end{equation}\n",
        "where $sim_{(u,v)}$ is the similarity between user $u$ and $v$. Usually, $sim_{(u,v)}$ can be computed by Pearson Correlation or Cosine Similarity.\n",
        "\n",
        "## Item-Based Collaborative Filtering\n",
        "This approach exploits the ratings given to similar items by the target user. The idea is formalized as follows:\n",
        "\n",
        "\\begin{equation}\n",
        "\\hat{r}_{(u,i)} = \\frac{\\sum\\limits_{j \\in \\mathcal{N}_u(i)}sim_{(i,j)}r_{ui}}{\\sum\\limits_{j \\in \\mathbf{N}_u(i)}|sim_{(i,j)}|}\n",
        "\\end{equation}\n",
        "where $sim_{(i,j)}$ is the similarity between item $i$ and $j$. Usually, $sim_{(i,j)}$ can be computed by Pearson Correlation or Cosine Similarity.\n",
        "\n",
        "## Vanilla MF (You may use the package Surprise if you do not want to write the training function by your self)\n",
        "Vanilla MF is the inner product of vectors that represent users and items. Each user is represented by a vector $\\textbf{p}_u \\in \\mathbb{R}^d$, each item is represented by a vector $\\textbf{q}_i \\in \\mathbb{R}^d$, and $\\hat{r}_{(u,i)}$ is computed by the inner product of $\\textbf{p}_u $ and $\\textbf{q}_i$. The core idea of Vanilla MF is depicted in the followng figure and follows the idea of SVD as we have seen during the TD.\n",
        "\n",
        "![picture](https://drive.google.com/uc?export=view&id=1EAG31Qw9Ti6hB7VqdONUlijWd4rXVobC)\n",
        "\n",
        "\\begin{equation}\n",
        "\\hat{r}_{(u,i)} = \\textbf{p}_u{\\textbf{q}_i}^T\n",
        "\\end{equation}\n",
        "\n",
        "## Some variants of SVD\n",
        "\n",
        "\n",
        "\n",
        "-  SVD with bias: $\\hat{r_{ui}} = \\mu + b_u + b_i + {q_i}^Tp_u$\n",
        "- SVD ++: $\\hat{r_{ui}} = \\mu + b_u + b_i + {q_i}^T(p_u + |I_u|^{\\frac{-1}{2}}\\sum\\limits_{j \\in I_u}y_j)$\n",
        "\n",
        "## Factorization machine (FM)\n",
        "\n",
        "FM takes into account user-item interactions and other features, such as users' contexts and items' attributes. It captures the second-order interactions of the vectors representing these features , thereby enriching FM's expressiveness. However, interactions involving less relevant features may introduce noise, as all interactions share the same weight. e.g. You may use FM to consider the features of items.\n",
        "\n",
        "\\begin{equation}\n",
        "\\hat{y}_{FM}(\\textbf{X}) = w_0 + \\sum\\limits_{j =1}^nw_jx_j + \\sum\\limits_{j=1}^n\\sum\\limits_{k=j+1}^n\\textbf{v}_j^T\\textbf{v}_kx_jx_k\n",
        "\\end{equation}\n",
        "\n",
        "where $\\textbf{X} \\in \\mathbb{R}^n$ is the feature vector, $n$ denotes the number of features, $w_0$ is the global bias, $w_j$ is the bias of the $j$-th feature and $\\textbf{v}_j^T\\textbf{v}_k$ denotes the bias of interaction between $j$-th feature and $k$-th feature, $\\textbf{v}_j \\in \\mathbb{R}^d$ is the vector representing $j$-th feature.\n",
        "\n",
        "## MLP\n",
        "\n",
        "You may also represent users and items by vectors and them feed them into a MLP to make prediction.\n",
        "\n",
        "## Metrics\n",
        "\n",
        "- \\begin{equation}\n",
        "RMSE = \\sqrt{\\frac{1}{|\\mathcal{T}|}\\sum\\limits_{(u,i)\\in\\mathcal{T}}{(\\hat{r}_{(u,i)}-r_{ui})}^2}\n",
        "\\end{equation}\n",
        "\n",
        "- \\begin{equation}\n",
        "MAE = \\frac{1}{|\\mathcal{T}|}\\sum\\limits_{(u,i)\\in\\mathcal{T}}{|\\hat{r}_{(u,i)}-r_{ui}|}\n",
        "\\end{equation}\n",
        "-  Bonnus: you may also consider NDCG and HR under the top-k setting\n"
      ],
      "metadata": {
        "id": "Ns0mocTlUIqj"
      }
    },
    {
      "cell_type": "code",
      "source": [
        "%pip install scikit-surprise"
      ],
      "metadata": {
        "colab": {
          "base_uri": "https://localhost:8080/"
        },
        "id": "ZD0VTxhWjEw_",
        "outputId": "98674591-dfc5-4a11-e02d-4b0dc00ee01c"
      },
      "execution_count": 2,
      "outputs": [
        {
          "output_type": "stream",
          "name": "stdout",
          "text": [
            "Collecting scikit-surprise\n",
            "  Downloading scikit-surprise-1.1.3.tar.gz (771 kB)\n",
            "\u001b[?25l     \u001b[90m━━━━━━━━━━━━━━━━━━━━━━━━━━━━━━━━━━━━━━━━\u001b[0m \u001b[32m0.0/772.0 kB\u001b[0m \u001b[31m?\u001b[0m eta \u001b[36m-:--:--\u001b[0m\r\u001b[2K     \u001b[91m━━━\u001b[0m\u001b[90m╺\u001b[0m\u001b[90m━━━━━━━━━━━━━━━━━━━━━━━━━━━━━━━━━━━━\u001b[0m \u001b[32m61.4/772.0 kB\u001b[0m \u001b[31m1.6 MB/s\u001b[0m eta \u001b[36m0:00:01\u001b[0m\r\u001b[2K     \u001b[91m━━━━━━━━━━━━━━━━━━━━━━━━━━━━━━━━━━━━━━━\u001b[0m\u001b[91m╸\u001b[0m \u001b[32m768.0/772.0 kB\u001b[0m \u001b[31m11.4 MB/s\u001b[0m eta \u001b[36m0:00:01\u001b[0m\r\u001b[2K     \u001b[90m━━━━━━━━━━━━━━━━━━━━━━━━━━━━━━━━━━━━━━━━\u001b[0m \u001b[32m772.0/772.0 kB\u001b[0m \u001b[31m9.8 MB/s\u001b[0m eta \u001b[36m0:00:00\u001b[0m\n",
            "\u001b[?25h  Preparing metadata (setup.py) ... \u001b[?25l\u001b[?25hdone\n",
            "Requirement already satisfied: joblib>=1.0.0 in /usr/local/lib/python3.10/dist-packages (from scikit-surprise) (1.3.2)\n",
            "Requirement already satisfied: numpy>=1.17.3 in /usr/local/lib/python3.10/dist-packages (from scikit-surprise) (1.23.5)\n",
            "Requirement already satisfied: scipy>=1.3.2 in /usr/local/lib/python3.10/dist-packages (from scikit-surprise) (1.11.4)\n",
            "Building wheels for collected packages: scikit-surprise\n",
            "  Building wheel for scikit-surprise (setup.py) ... \u001b[?25l\u001b[?25hdone\n",
            "  Created wheel for scikit-surprise: filename=scikit_surprise-1.1.3-cp310-cp310-linux_x86_64.whl size=3163702 sha256=e124e74311a70808071cc970a600a6188193d48a7741c91ed39f4e932b05da58\n",
            "  Stored in directory: /root/.cache/pip/wheels/a5/ca/a8/4e28def53797fdc4363ca4af740db15a9c2f1595ebc51fb445\n",
            "Successfully built scikit-surprise\n",
            "Installing collected packages: scikit-surprise\n",
            "Successfully installed scikit-surprise-1.1.3\n"
          ]
        }
      ]
    },
    {
      "cell_type": "code",
      "source": [
        "# Import the data\n",
        "import numpy as np\n",
        "import random\n",
        "from scipy.stats import pearsonr\n",
        "from math import sqrt\n",
        "import pandas as pd\n",
        "import surprise as sp\n",
        "import surprise.model_selection as spms\n",
        "import sklearn.model_selection as skms\n",
        "from sklearn.metrics import mean_squared_error, mean_absolute_error\n",
        "\n",
        "meta = pd.read_pickle('movie_metadata.pkl') ##Dictionnary\n",
        "rating = pd.read_pickle('movie_ratings_500_id.pkl') ##Dictionnary"
      ],
      "metadata": {
        "id": "GPRIc1gDeoqt"
      },
      "execution_count": 3,
      "outputs": []
    },
    {
      "cell_type": "markdown",
      "source": [
        "# **User-based**"
      ],
      "metadata": {
        "id": "hT7mVgYeMsOA"
      }
    },
    {
      "cell_type": "code",
      "source": [
        "## ## Separate train and test\n",
        "partition = 0.8\n",
        "testSet = {}\n",
        "trainSet = {}\n",
        "\n",
        "for movieId,ratings in rating.items():\n",
        "  for record in ratings :\n",
        "    if random.random() < partition:\n",
        "      if movieId not in trainSet:\n",
        "        trainSet[movieId] = [record]\n",
        "      else:\n",
        "        trainSet[movieId].append(record)\n",
        "    else:\n",
        "      if movieId not in testSet:\n",
        "        testSet[movieId] = [record]\n",
        "      else:\n",
        "        testSet[movieId].append(record)\n"
      ],
      "metadata": {
        "id": "kVWKNesUJrDG"
      },
      "execution_count": null,
      "outputs": []
    },
    {
      "cell_type": "markdown",
      "source": [
        "User-movie matrix"
      ],
      "metadata": {
        "id": "tMrq1iKkM0tQ"
      }
    },
    {
      "cell_type": "code",
      "source": [
        "def build_user_movie_matrix(dataset):\n",
        "  users = set()\n",
        "  movies = set()\n",
        "\n",
        "  for movie, ratings in dataset.items():\n",
        "    for rating in ratings:\n",
        "      user_id = rating['user_id']\n",
        "      users.add(user_id)\n",
        "      movies.add(movie)\n",
        "  # Id of users\n",
        "  user_list = sorted(list(users))\n",
        "  # Id of movies\n",
        "  movie_list = sorted(list(movies))\n",
        "\n",
        "  matrix = np.zeros((len(user_list),len(movie_list)))\n",
        "  user_map = {user:index for index, user in enumerate(user_list)}\n",
        "  movie_map = {movie:index for index, movie in enumerate(movie_list)}\n",
        "\n",
        "  for movie, ratings in dataset.items():\n",
        "    movie_index = movie_map[movie]\n",
        "    for rating in ratings:\n",
        "      user_id = rating['user_id']\n",
        "      user_index = user_map[user_id]\n",
        "      score = float(rating['user_rating'])\n",
        "      # # Verify that the min of rating is not 0\n",
        "      # if score < 1:\n",
        "      #   print('!')\n",
        "      matrix[user_index,movie_index] = score\n",
        "\n",
        "  return matrix, user_list, movie_list"
      ],
      "metadata": {
        "id": "KG9ZcrheM4az"
      },
      "execution_count": null,
      "outputs": []
    },
    {
      "cell_type": "markdown",
      "source": [
        "Pearson"
      ],
      "metadata": {
        "id": "JvjhSq6sNF2-"
      }
    },
    {
      "cell_type": "code",
      "source": [
        "def pearson_corr(line_u,line_v):\n",
        "  commun = np.logical_and(line_u != 0, line_v != 0)\n",
        "  # The PC is meaningful if and only if u and v have >=2 movies in commun\n",
        "  if np.sum(commun) < 2:\n",
        "    return 0\n",
        "\n",
        "  # Idem if an user gives always a same score\n",
        "  if np.std(line_u[commun]) == 0 or np.std(line_v[commun]) == 0:\n",
        "    return 0\n",
        "\n",
        "  corr, _ = pearsonr(line_u[commun], line_v[commun])\n",
        "  return corr\n",
        "\n",
        "def corr_u_vs(u,matrix):\n",
        "  nb_user = matrix.shape[0]\n",
        "  matrix_pc = np.zeros((1, nb_user))\n",
        "  line_u = matrix[u,:]\n",
        "\n",
        "  for i in range(nb_user):\n",
        "    if i == u:\n",
        "      matrix_pc[0,i] = 1\n",
        "    else:\n",
        "      line_v = matrix[i,:]\n",
        "      pc = pearson_corr(line_u, line_v)\n",
        "      matrix_pc[0,i] = pc\n",
        "\n",
        "  return matrix_pc"
      ],
      "metadata": {
        "id": "FVDj3GFlNXuM"
      },
      "execution_count": null,
      "outputs": []
    },
    {
      "cell_type": "markdown",
      "source": [
        "Predictions"
      ],
      "metadata": {
        "id": "2l36wkaENYrG"
      }
    },
    {
      "cell_type": "code",
      "source": [
        "# Predict rating of each movie for u\n",
        "def predict_u_rating(threshold, matrix, matrix_pc, u):\n",
        "  unrated_movie =  np.where(matrix[u, :] == 0)[0] # Movies not rated by u\n",
        "  rated_movie = np.where(matrix[u, :] != 0)[0] # Movies rated by u\n",
        "\n",
        "  nb_movies = matrix.shape[1]\n",
        "\n",
        "  # Find the most similar users, predict the rating of u\n",
        "  # We care only about users who have a 0.7 < PC < 1 with the user u\n",
        "  filtered_user = np.where((matrix_pc[0, :] > threshold) & (matrix_pc[0, :] < 1))[0]\n",
        "\n",
        "  prediction_list = []\n",
        "\n",
        "  for movie in range(nb_movies):\n",
        "    left = 0\n",
        "    right = 0\n",
        "    for v in filtered_user:\n",
        "      if matrix[v,movie] != 0:\n",
        "        pc = matrix_pc[0,v]\n",
        "        left += pc * matrix[v, movie]\n",
        "        right += np.abs(pc)\n",
        "\n",
        "    if right != 0:\n",
        "      prediction = left/right\n",
        "      prediction_list.append((movie, prediction))\n",
        "\n",
        "  return unrated_movie, rated_movie, prediction_list\n",
        "\n",
        "# Keep only unrated movies\n",
        "def recommend_movies(unrated_movie, prediction_list, nbRmd):\n",
        "  filtered_movies_pred = [pred for pred in prediction_list if pred[0] in unrated_movie]\n",
        "  filtered_movies_pred.sort(key = lambda x:x[1], reverse = True)\n",
        "\n",
        "  if len(filtered_movies_pred) >= nbRmd:\n",
        "    recommendation = [item[0] for item  in filtered_movies_pred[:nbRmd]]\n",
        "    return recommendation\n",
        "  else:\n",
        "    return filtered_movies_pred\n",
        "\n",
        "\n",
        "# Keep only rated movies\n",
        "def predict_rated_movies(rated_movie, prediction_list):\n",
        "  filtered_rated_pred = [pred for pred in prediction_list if pred[0] in rated_movie]\n",
        "  return filtered_rated_pred\n",
        "\n",
        "# Find the user rated list\n",
        "def get_rated_list(matrix, u, filtered_rated_pred):\n",
        "  rated_list = []\n",
        "\n",
        "  for pred in filtered_rated_pred:\n",
        "    index = pred[0]\n",
        "    rated_list.append((index, matrix[u][index]))\n",
        "  return rated_list"
      ],
      "metadata": {
        "id": "MkufwH-RNfz3"
      },
      "execution_count": null,
      "outputs": []
    },
    {
      "cell_type": "markdown",
      "source": [
        "Movie index -> id -> info"
      ],
      "metadata": {
        "id": "bGSxBV7vNu-U"
      }
    },
    {
      "cell_type": "code",
      "source": [
        "def movie_index_to_id(filtered_movies_pred, movies):\n",
        "  return [movies[index] for index in filtered_movies_pred]\n",
        "\n",
        "def movie_id_to_info(movie_ids, meta):\n",
        "  return [meta[movie_id] for movie_id in movie_ids]"
      ],
      "metadata": {
        "id": "4rhvh56ANz_Q"
      },
      "execution_count": null,
      "outputs": []
    },
    {
      "cell_type": "markdown",
      "source": [
        "User-based function"
      ],
      "metadata": {
        "id": "47VHSvIcN4ZB"
      }
    },
    {
      "cell_type": "code",
      "source": [
        "# u : id of a user\n",
        "# dataset : the movie - ratings dataset, same structure as the movie_ratings_500_id\n",
        "# threshold : min of PC of two users\n",
        "# nbRecommend : number of movies that you want to recommend to the user\n",
        "def user_based(u, dataset, threshold, nbRecommend):\n",
        "  matrix, user_list, movie_list = build_user_movie_matrix(dataset)\n",
        "  # Find the index of the user\n",
        "  u_index = [index for index, id in enumerate(user_list) if id == u][0]\n",
        "\n",
        "  matrix_pc = corr_u_vs(u_index, matrix)\n",
        "  unrated_movie, _, prediction_list = predict_u_rating(threshold, matrix, matrix_pc, u_index)\n",
        "  filtered_movies_pred = recommend_movies(unrated_movie, prediction_list, nbRecommend)\n",
        "  recommend_id = movie_index_to_id(filtered_movies_pred, movie_list)\n",
        "  recommendation = movie_id_to_info(recommend_id, meta)\n",
        "  return recommendation"
      ],
      "metadata": {
        "id": "4_-MEghCOHSs"
      },
      "execution_count": null,
      "outputs": []
    },
    {
      "cell_type": "markdown",
      "source": [
        "User-based results"
      ],
      "metadata": {
        "id": "PAJsUs7FOu2D"
      }
    },
    {
      "cell_type": "code",
      "source": [
        "user_based('1005851', trainSet, 0.7, 10)"
      ],
      "metadata": {
        "colab": {
          "base_uri": "https://localhost:8080/"
        },
        "id": "sSoLvxe6OyyV",
        "outputId": "0647fbcd-cdb6-43e4-d05b-bcbc54564523"
      },
      "execution_count": null,
      "outputs": [
        {
          "output_type": "execute_result",
          "data": {
            "text/plain": [
              "[{'director': \"Thaddeus O'Sullivan\",\n",
              "  'genre': ['Comedy', 'Crime'],\n",
              "  'actors': ['Kevin Spacey',\n",
              "   'Linda Fiorentino',\n",
              "   'Peter Mullan',\n",
              "   'Stephen Dillane',\n",
              "   'Gerard McSorley',\n",
              "   'Colin Farrell'],\n",
              "  'title': 'Ordinary Decent Criminal'},\n",
              " {'director': 'Dominic Anciano Ray Burdis',\n",
              "  'genre': ['Drama', 'Thriller'],\n",
              "  'actors': ['Ray Winstone', 'Jude Law', 'Sadie Frost'],\n",
              "  'title': 'Final Cut'},\n",
              " {'director': 'John Lasseter Ash Brannon',\n",
              "  'genre': ['Animation', 'Adventure', 'Comedy'],\n",
              "  'actors': ['Tom Hanks', 'Tim Allen', 'Joan Cusack', 'Annie Potts'],\n",
              "  'title': 'Toy Story 2'},\n",
              " {'director': 'Anthony Drazan',\n",
              "  'genre': ['Comedy', 'Drama'],\n",
              "  'actors': ['Sean Penn',\n",
              "   'Kevin Spacey',\n",
              "   'Chazz Palminteri',\n",
              "   'Robin Wright',\n",
              "   'Anna Paquin',\n",
              "   'Meg Ryan'],\n",
              "  'title': 'Hurlyburly'},\n",
              " {'director': 'Nick Cassavetes',\n",
              "  'genre': ['Drama', 'Romance'],\n",
              "  'actors': ['Gena Rowlands',\n",
              "   'James Garner',\n",
              "   'Rachel McAdams',\n",
              "   'Ryan Gosling'],\n",
              "  'title': 'The Notebook'},\n",
              " {'director': 'Frank Darabont',\n",
              "  'genre': ['Crime', 'Drama', 'Fantasy'],\n",
              "  'actors': ['Tom Hanks',\n",
              "   'Michael Clarke Duncan',\n",
              "   'David Morse',\n",
              "   'James Cromwell',\n",
              "   'Sam Rockwell',\n",
              "   'Barry Pepper',\n",
              "   'Patricia Clarkson'],\n",
              "  'title': 'The Green Mile'},\n",
              " {'director': 'Steven Spielberg',\n",
              "  'genre': ['Drama', 'War'],\n",
              "  'actors': ['Tom Hanks',\n",
              "   'Matt Damon',\n",
              "   'Tom Sizemore',\n",
              "   'Edward Burns',\n",
              "   'Barry Pepper',\n",
              "   'Adam Goldberg',\n",
              "   'Vin Diesel',\n",
              "   'Giovanni Ribisi',\n",
              "   'Jeremy Davies',\n",
              "   'Paul Giamatti',\n",
              "   'Dennis Farina'],\n",
              "  'title': 'Saving Private Ryan'},\n",
              " {'director': 'Andrew Adamson Kelly Asbury',\n",
              "  'genre': ['Animation', 'Adventure', 'Comedy'],\n",
              "  'actors': ['Mike Myers',\n",
              "   'Eddie Murphy',\n",
              "   'Cameron Diaz',\n",
              "   'Julie Andrews',\n",
              "   'Antonio Banderas',\n",
              "   'Rupert Everett'],\n",
              "  'title': 'Shrek 2'},\n",
              " {'director': 'Terry George',\n",
              "  'genre': ['Biography', 'Drama', 'History'],\n",
              "  'actors': ['Don Cheadle', 'Sophie Okonedo', 'Joaquin Phoenix', 'Nick Nolte'],\n",
              "  'title': 'Hotel Rwanda'},\n",
              " {'director': 'Jordan Brady',\n",
              "  'genre': ['Comedy', 'Romance'],\n",
              "  'actors': ['Billy Bob Thornton',\n",
              "   'Charlize Theron',\n",
              "   'Patrick Swayze',\n",
              "   'Natasha Richardson'],\n",
              "  'title': 'Waking Up in Reno'}]"
            ]
          },
          "metadata": {},
          "execution_count": 11
        }
      ]
    },
    {
      "cell_type": "markdown",
      "source": [
        "The number of users in the trainSet is really large (around 40000) which takes a long time to run all the users. We pick randomly 10 users and for one threshold, repeat 10 times the function. Tried threshold = 0.9/0.8/0.7/0.6, 0.7 has the best result"
      ],
      "metadata": {
        "id": "KEAblf2jZ1NP"
      }
    },
    {
      "cell_type": "code",
      "source": [
        "matrix, user_list, movie_list = build_user_movie_matrix(trainSet)"
      ],
      "metadata": {
        "id": "O7epdTwJaF60"
      },
      "execution_count": null,
      "outputs": []
    },
    {
      "cell_type": "code",
      "source": [
        "from sklearn.metrics import mean_squared_error, mean_absolute_error\n",
        "\n",
        "def rmse_mae(u, threshold, matrix):\n",
        "  cpt_is_null = 0\n",
        "\n",
        "  matrix_pc = corr_u_vs(u,matrix)\n",
        "\n",
        "  _, rated_movie, prediction_list = predict_u_rating(threshold, matrix, matrix_pc, u)\n",
        "  index_prediction = predict_rated_movies(rated_movie, prediction_list)\n",
        "\n",
        "  if len(index_prediction) == 0:\n",
        "    rmse = 0\n",
        "    mae = 0\n",
        "    cpt_is_null += 1\n",
        "\n",
        "  else:\n",
        "    index_reality = get_rated_list(matrix, u, index_prediction)\n",
        "\n",
        "    reality = [rating[1] for rating in index_reality]\n",
        "    prediction = [prediction[1] for prediction in index_prediction]\n",
        "\n",
        "    rmse = np.sqrt(mean_squared_error(reality, prediction))\n",
        "    mae = mean_absolute_error(reality, prediction)\n",
        "\n",
        "  return rmse, mae, cpt_is_null"
      ],
      "metadata": {
        "id": "WqsAYTysZ3QV"
      },
      "execution_count": null,
      "outputs": []
    },
    {
      "cell_type": "code",
      "source": [
        "rmse_total = 0\n",
        "mae_total = 0\n",
        "cpt = 0\n",
        "\n",
        "nb_sample = random.sample(range(len(user_list)), 100)\n",
        "\n",
        "for i in range(len(nb_sample)):\n",
        "  user = nb_sample[i]\n",
        "  rmse, mae, cpt = rmse_mae(user, 0.7, matrix)\n",
        "  rmse_total += rmse\n",
        "  mae_total += mae"
      ],
      "metadata": {
        "id": "fyCAJUZ-Z-vK"
      },
      "execution_count": null,
      "outputs": []
    },
    {
      "cell_type": "code",
      "source": [
        "avg_rmse = rmse_total/(len(nb_sample) - cpt)\n",
        "avg_mae = mae_total/(len(nb_sample) - cpt)\n",
        "\n",
        "print(avg_rmse, avg_mae)"
      ],
      "metadata": {
        "colab": {
          "base_uri": "https://localhost:8080/"
        },
        "id": "4XPLRFG1aOft",
        "outputId": "931ea3d3-bce4-46c8-869f-6947ff55c9ca"
      },
      "execution_count": null,
      "outputs": [
        {
          "output_type": "stream",
          "name": "stdout",
          "text": [
            "0.1781692559612347 0.1536907551295547\n"
          ]
        }
      ]
    },
    {
      "cell_type": "markdown",
      "source": [
        "# **Item-based**"
      ],
      "metadata": {
        "id": "9WUtWRDtOZ9W"
      }
    },
    {
      "cell_type": "code",
      "source": [
        "##Item-based\n",
        "def create_ratings_df(ratings_data):\n",
        "    data = {'user_id': [], 'movie_id': [], 'rating': []}\n",
        "    for movie_id, ratings in ratings_data.items():\n",
        "        for info in ratings:\n",
        "            data['user_id'].append(info['user_id'])\n",
        "            data['movie_id'].append(movie_id)\n",
        "            data['rating'].append(int(info['user_rating']))\n",
        "\n",
        "    return pd.DataFrame(data)\n",
        "\n",
        "#movies info\n",
        "def get_movie_details(movie_id):\n",
        "    return metadata.get(movie_id, {})\n",
        "\n",
        "ratings_df = create_ratings_df(rating)\n",
        "#print(ratings_df)\n",
        "\n",
        "train_data, test_data = skms.train_test_split(ratings_df, test_size=0.2)\n",
        "\n",
        "# Training data to dictionary format\n",
        "train_ratings_data = train_data.groupby('user_id').apply(lambda x: dict(zip(x['movie_id'], x['rating']))).to_dict()\n",
        "\n",
        "# Test data to dictionary format\n",
        "test_ratings_data = test_data.groupby('user_id').apply(lambda x: dict(zip(x['movie_id'], x['rating']))).to_dict()\n",
        "\n",
        "def similarityItemCF(data, a=0.3):\n",
        "    N = {}  # Total number of users who rated item i\n",
        "    C = {}  # Number of users who rated both items i and j\n",
        "\n",
        "    # Iterate over users and their ratings\n",
        "    for user, items in data.items():\n",
        "        for i, score in items.items():\n",
        "            N.setdefault(i, 0)\n",
        "            N[i] += 1\n",
        "            C.setdefault(i, {})\n",
        "            for j, scores in items.items():\n",
        "                if j != i:\n",
        "                    C[i].setdefault(j, 0)\n",
        "                    C[i][j] += 1\n",
        "\n",
        "    # Calculate item-item similarity matrix W\n",
        "    W = {}\n",
        "    for i, item in C.items():\n",
        "        W.setdefault(i, {})\n",
        "        for j, item2 in item.items():\n",
        "            W[i].setdefault(j, 0)\n",
        "            W[i][j] = C[i][j] / sqrt(N[i] * N[j])\n",
        "\n",
        "    for i,item in W.items():\n",
        "      for j, score in item.items():\n",
        "        W[i][j] = W[i][j] * (1 - a) + a\n",
        "\n",
        "    return W\n",
        "\n",
        "def recommand_movies(ratings, movie_metadata, item_similarity, user_id, N, k):\n",
        "    ranked_movies = {}\n",
        "\n",
        "    # Iterate over movies the user has rated\n",
        "    for movie_id, user_rating in ratings[user_id].items():\n",
        "        # Iterate over the top k similar movies to the rated movie\n",
        "        for similar_movie_id, similarity_score in sorted(item_similarity[movie_id].items(), key=lambda x: x[1], reverse=True)[:k]:\n",
        "            # Check if the user has not rated the similar movie\n",
        "            if similar_movie_id not in ratings[user_id]:\n",
        "                ranked_movies.setdefault(similar_movie_id, {'score': 0, 'details': {}})\n",
        "                ranked_movies[similar_movie_id]['score'] += user_rating * similarity_score\n",
        "                ranked_movies[similar_movie_id]['details'] = movie_metadata.get(similar_movie_id, {})\n",
        "\n",
        "    # Return the top N recommendations with movies details\n",
        "    recommendations = sorted(ranked_movies.items(), key=lambda x: x[1]['score'], reverse=True)[:N]\n",
        "    return recommendations"
      ],
      "metadata": {
        "id": "Zb8uooXgDw5X"
      },
      "execution_count": 7,
      "outputs": []
    },
    {
      "cell_type": "code",
      "source": [
        "##Item-based results\n",
        "uid = '1380819'\n",
        "N = 10\n",
        "item_similar = similarityItemCF(train_ratings_data)\n",
        "recommendations = recommand_movies(test_ratings_data, meta, item_similar, uid, N, k=3)\n",
        "print(f\"Top {N} Recommendations for User {uid}:\")\n",
        "for movie_id, details in recommendations:\n",
        "    print(f\"Movie ID: {movie_id}\")\n",
        "    print(f\"Title: {details['details']['title']}\")\n",
        "    print(f\"Genre: {details['details']['genre']}\")\n",
        "    print(\"---\")"
      ],
      "metadata": {
        "colab": {
          "base_uri": "https://localhost:8080/"
        },
        "id": "ForO-xACEPnv",
        "outputId": "38f79c9c-43c1-476b-9060-ab78e80409ef"
      },
      "execution_count": 5,
      "outputs": [
        {
          "output_type": "stream",
          "name": "stdout",
          "text": [
            "Top 10 Recommendations for User 1380819:\n",
            "Movie ID: tt0261392\n",
            "Title: Jay and Silent Bob Strike Back\n",
            "Genre: ['Comedy']\n",
            "---\n",
            "Movie ID: tt0286106\n",
            "Title: Signs\n",
            "Genre: ['Drama', 'Mystery', 'Sci-Fi']\n",
            "---\n",
            "Movie ID: tt0264464\n",
            "Title: Catch Me If You Can\n",
            "Genre: ['Biography', 'Crime', 'Drama']\n",
            "---\n",
            "Movie ID: tt0327056\n",
            "Title: Mystic River\n",
            "Genre: ['Crime', 'Drama', 'Mystery']\n",
            "---\n",
            "Movie ID: tt0311113\n",
            "Title: Master and Commander: The Far Side of the World\n",
            "Genre: ['Action', 'Adventure', 'Drama']\n",
            "---\n",
            "Movie ID: tt0259711\n",
            "Title: Vanilla Sky\n",
            "Genre: ['Fantasy', 'Mystery', 'Romance']\n",
            "---\n",
            "Movie ID: tt0208092\n",
            "Title: Snatch\n",
            "Genre: ['Comedy', 'Crime']\n",
            "---\n",
            "Movie ID: tt0183505\n",
            "Title: Me, Myself & Irene\n",
            "Genre: ['Comedy']\n",
            "---\n",
            "Movie ID: tt0177971\n",
            "Title: The Perfect Storm\n",
            "Genre: ['Action', 'Adventure', 'Drama']\n",
            "---\n",
            "Movie ID: tt0257044\n",
            "Title: Road to Perdition\n",
            "Genre: ['Crime', 'Drama', 'Thriller']\n",
            "---\n"
          ]
        }
      ]
    },
    {
      "cell_type": "code",
      "source": [
        "true_ratings = []\n",
        "predicted_ratings = []\n",
        "\n",
        "for user_id, movies in test_ratings_data.items():\n",
        "    for movie_id, true_rating in movies.items():\n",
        "      # Get the predicted rating from recommendations\n",
        "      predicted_rating = next((reco[1]['score'] for reco in recommendations if reco[0] == movie_id), 0)\n",
        "      true_ratings.append(true_rating)\n",
        "      predicted_ratings.append(predicted_rating)\n",
        "\n",
        "# Calculate RMSE and MAE\n",
        "rmse = np.sqrt(mean_squared_error(true_ratings, predicted_ratings))\n",
        "mae = mean_absolute_error(true_ratings, predicted_ratings)\n",
        "\n",
        "print(f\"RMSE: {rmse}\")\n",
        "print(f\"MAE: {mae}\")"
      ],
      "metadata": {
        "colab": {
          "base_uri": "https://localhost:8080/"
        },
        "id": "WIj7run-A8pi",
        "outputId": "1c572bcc-123c-4e94-afd9-f62c1a22cabc"
      },
      "execution_count": 8,
      "outputs": [
        {
          "output_type": "stream",
          "name": "stdout",
          "text": [
            "RMSE: 3.449661981555301\n",
            "MAE: 3.2610468548585843\n"
          ]
        }
      ]
    },
    {
      "cell_type": "markdown",
      "source": [
        "# **Vanilla MF**"
      ],
      "metadata": {
        "id": "jE13ND_vOg9S"
      }
    },
    {
      "cell_type": "code",
      "source": [
        "## Vanilla MF\n",
        "data = []\n",
        "movies = {}\n",
        "\n",
        "for movie, metadata in meta.items():\n",
        "  title = metadata['title']\n",
        "  movies[movie] = title\n",
        "\n",
        "for movie, ratings in rating.items():\n",
        "    for rat in ratings:\n",
        "        movie_id = movie\n",
        "        user_id = rat['user_id']\n",
        "        user_rating = rat['user_rating']\n",
        "        data.append((user_id, movie_id, user_rating))\n",
        "\n",
        "# Define the Reader with your rating scale and other options\n",
        "reader = sp.Reader(rating_scale=(1, 5))\n",
        "custom_datasets = pd.DataFrame(data, columns=['user_id', 'movie_id', 'user_rating'])\n",
        "\n",
        "custom_dataset = sp.Dataset.load_from_df(custom_datasets, reader)\n",
        "\n",
        "# # # Step 3: Create a Trainset\n",
        "trainset, testset = spms.train_test_split(custom_dataset, test_size=0.2, random_state=42, shuffle=True)\n",
        "\n",
        "algo = sp.SVD()\n",
        "algo.fit(trainset)\n",
        "pred = algo.test(testset)\n",
        "sp.accuracy.rmse(pred)\n",
        "sp.accuracy.mae(pred)"
      ],
      "metadata": {
        "colab": {
          "base_uri": "https://localhost:8080/"
        },
        "id": "ZUm1srAUfDsb",
        "outputId": "553e0751-6f64-4829-fe8b-4934c3fd27f2"
      },
      "execution_count": null,
      "outputs": [
        {
          "output_type": "stream",
          "name": "stdout",
          "text": [
            "RMSE: 0.9518\n",
            "MAE:  0.7518\n"
          ]
        },
        {
          "output_type": "execute_result",
          "data": {
            "text/plain": [
              "0.7518028762832114"
            ]
          },
          "metadata": {},
          "execution_count": 37
        }
      ]
    },
    {
      "cell_type": "code",
      "source": [
        "##Vanilla MF results\n",
        "user_id = '185150'  # Replace with the user ID for whom you want to make recommendations\n",
        "user_ratings = custom_dataset.raw_ratings\n",
        "user_ratings = [(uid, iid, r) for (uid, iid, r, _) in user_ratings if uid == user_id]\n",
        "user_ratings = sorted(user_ratings, key=lambda x: x[2], reverse=True)\n",
        "already_rated = {iid: r for (uid, iid, r) in user_ratings}\n",
        "\n",
        "# # Get the items that the user hasn't rated yet\n",
        "# unrated_items = [item for item in trainset.all_items() if item not in already_rated]\n",
        "unrated_items = [item for item in movies if item not in already_rated]\n",
        "\n",
        "# # Make predictions for the unrated items\n",
        "predictions = [algo.predict(user_id, item) for item in unrated_items]\n",
        "\n",
        "# Get the top N recommendations\n",
        "top_n = [(iid, est) for (uid, iid, true_r, est, _) in predictions]\n",
        "top_n = sorted(top_n, key=lambda x: x[1], reverse=True)[:10]\n",
        "\n",
        "print(f\"Top 10 Recommendations for User {user_id}:\")\n",
        "for iid, est in top_n:\n",
        "    print(f\"{movies[iid]}: Estimated rating - {est}\")\n"
      ],
      "metadata": {
        "colab": {
          "base_uri": "https://localhost:8080/"
        },
        "id": "ASQKF8hjGX43",
        "outputId": "68546c90-0083-4858-b207-0de3132111df"
      },
      "execution_count": null,
      "outputs": [
        {
          "output_type": "stream",
          "name": "stdout",
          "text": [
            "Top 10 Recommendations for User 185150:\n",
            "Saving Private Ryan: Estimated rating - 4.215646182155594\n",
            "Gladiator: Estimated rating - 3.962867269805805\n",
            "Toy Story 2: Estimated rating - 3.9470806961577036\n",
            "Remember the Titans: Estimated rating - 3.9253485767454577\n",
            "Fight Club: Estimated rating - 3.9190645930473766\n",
            "Elizabeth: Estimated rating - 3.8321405639439696\n",
            "October Sky: Estimated rating - 3.7724821850676817\n",
            "The Green Mile: Estimated rating - 3.7684793352017807\n",
            "We Were Soldiers: Estimated rating - 3.755327231481414\n",
            "O Brother, Where Art Thou?: Estimated rating - 3.692665514322229\n"
          ]
        }
      ]
    },
    {
      "cell_type": "markdown",
      "source": [
        "# Requirements\n",
        "- Minimizing the RMSE and MAE\n",
        "- Try to compare different methods that you have adopted and interpret the results that you have obtained\n",
        "- Construct a recommender system that returns the top 10 movies that the users have not watched in the past"
      ],
      "metadata": {
        "id": "-zkYT8SQcFwj"
      }
    },
    {
      "cell_type": "markdown",
      "source": [
        "# For the same user 185150\n",
        "# User-based :"
      ],
      "metadata": {
        "id": "D7cMlcRWrht-"
      }
    },
    {
      "cell_type": "code",
      "source": [
        "# For the same user 185150\n",
        "# User-based\n",
        "recomend_user_based = user_based('185150', rating, 0.7, 10)\n",
        "\n",
        "titles_user_based = [movie['title'] for movie in recomend_user_based]\n",
        "\n",
        "titles_user_based"
      ],
      "metadata": {
        "colab": {
          "base_uri": "https://localhost:8080/"
        },
        "id": "thkYCawCoZ49",
        "outputId": "e6fad13b-11aa-4e03-f26a-e9e14a1e52cf"
      },
      "execution_count": null,
      "outputs": [
        {
          "output_type": "execute_result",
          "data": {
            "text/plain": [
              "['Toy Story 2',\n",
              " 'Kingdom Come',\n",
              " 'All About My Mother',\n",
              " 'My Life So Far',\n",
              " 'Pirates of the Caribbean: The Curse of the Black Pearl',\n",
              " 'Almost Famous',\n",
              " 'Erin Brockovich',\n",
              " 'Harry Potter and the Chamber of Secrets',\n",
              " 'Along Came a Spider',\n",
              " 'The Patriot']"
            ]
          },
          "metadata": {},
          "execution_count": 22
        }
      ]
    },
    {
      "cell_type": "markdown",
      "source": [
        "# Item-based :"
      ],
      "metadata": {
        "id": "n9HPeV7irl_-"
      }
    },
    {
      "cell_type": "code",
      "source": [
        "ratings_data = ratings_df.groupby('user_id').apply(lambda x: dict(zip(x['movie_id'], x['rating']))).to_dict()"
      ],
      "metadata": {
        "id": "OTqxBAY9tl7-"
      },
      "execution_count": null,
      "outputs": []
    },
    {
      "cell_type": "code",
      "source": [
        "uid = '185150'\n",
        "N = 10\n",
        "item_similar = similarityItemCF(ratings_data)\n",
        "recommendations = recommand_movies(ratings_data, meta, item_similar, uid, N, k=3)\n",
        "print(f\"Top {N} Recommendations for User {uid}:\")\n",
        "for movie_id, details in recommendations:\n",
        "    print(f\"Title: {details['details']['title']}\")"
      ],
      "metadata": {
        "id": "fFAk4XZIpSuM",
        "colab": {
          "base_uri": "https://localhost:8080/"
        },
        "outputId": "759b0892-7075-4202-bccc-3780938deb5b"
      },
      "execution_count": null,
      "outputs": [
        {
          "output_type": "stream",
          "name": "stdout",
          "text": [
            "Top 10 Recommendations for User 185150:\n",
            "Title: A Beautiful Mind\n",
            "Title: Collateral\n",
            "Title: The Bourne Identity\n",
            "Title: Catch Me If You Can\n",
            "Title: The Patriot\n",
            "Title: Mona Lisa Smile\n",
            "Title: The Aviator\n",
            "Title: Training Day\n",
            "Title: Harry Potter and the Chamber of Secrets\n",
            "Title: The Last Samurai\n"
          ]
        }
      ]
    },
    {
      "cell_type": "markdown",
      "source": [
        "The same recommendation for user-based and item-based is Harry Potter and the Chamber of Secrets.\n",
        "The same recommendation for user-based and Vanilla MF is Toy Story 2.\n",
        "There is no same recommendation for item-based and Vanilla MF.\n",
        "\n"
      ],
      "metadata": {
        "id": "Nhia9X85z9JF"
      }
    },
    {
      "cell_type": "markdown",
      "source": [
        "The recommendations from the three algorithms are significantly different, as the user similarity method may prefer recommending items similar to the user's historical behavior, while the movie similarity method may lean towards suggesting movies similar to those previously liked by the user. Matrix factorization, on the other hand, takes into account the latent features of users and movies, potentially resulting in diverse recommendations in certain scenarios.\n",
        "In terms of minimizing rmse and mae, the user-based algorithm seems to be the best one"
      ],
      "metadata": {
        "id": "ezndQKEk0bKC"
      }
    }
  ]
}